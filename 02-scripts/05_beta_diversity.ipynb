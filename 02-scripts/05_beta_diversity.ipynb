{
 "cells": [
  {
   "cell_type": "markdown",
   "id": "ed82d60b-5936-4283-8d5b-8ad4519b2be3",
   "metadata": {},
   "source": [
    "# Pankreopriver diabetes mellitus vs Diabetes Type 1 "
   ]
  },
  {
   "cell_type": "markdown",
   "id": "fc4609ae-1a90-41db-8075-e2754ff69200",
   "metadata": {},
   "source": [
    "## Beta diversity"
   ]
  },
  {
   "cell_type": "markdown",
   "id": "3cfd714c-7aaa-4a46-8bca-d390bb0712de",
   "metadata": {},
   "source": [
    "### Libraries"
   ]
  },
  {
   "cell_type": "code",
   "execution_count": null,
   "id": "c60dd388-d27d-4b66-8292-e337e1d156a0",
   "metadata": {},
   "outputs": [],
   "source": [
    "# pd.options.display.max_columns= 999"
   ]
  },
  {
   "cell_type": "code",
   "execution_count": null,
   "id": "4c0d2aa7-c50a-493b-8f3a-dc506bcb8108",
   "metadata": {},
   "outputs": [],
   "source": [
    "import pandas as pd"
   ]
  },
  {
   "cell_type": "code",
   "execution_count": null,
   "id": "25185f1e-33a8-4e31-8d74-16146127f6fc",
   "metadata": {},
   "outputs": [],
   "source": [
    "import matplotlib.pyplot as plt\n",
    "import numpy as np\n",
    "import pandas as pd\n",
    "import seaborn as sns\n",
    "from sklearn.decomposition import PCA"
   ]
  },
  {
   "cell_type": "code",
   "execution_count": null,
   "id": "3a685602-20c1-4b01-afe1-dd4f677c0165",
   "metadata": {},
   "outputs": [],
   "source": [
    "import matplotlib.pyplot as plt\n",
    "import numpy as np\n",
    "import pandas as pd\n",
    "import seaborn as sns\n",
    "import statsmodels.api as sm\n",
    "import statsmodels.formula.api as smf\n",
    "from scipy.stats import mannwhitneyu\n",
    "from statsmodels.stats.multitest import multipletests"
   ]
  },
  {
   "cell_type": "code",
   "execution_count": null,
   "id": "7ad9f75f-217d-45d3-92a5-a1b2601e106d",
   "metadata": {},
   "outputs": [],
   "source": [
    "from skbio.stats.ordination import pcoa"
   ]
  },
  {
   "cell_type": "code",
   "execution_count": null,
   "id": "cf8deb8a-6b49-4a63-85d8-5caf04800000",
   "metadata": {},
   "outputs": [],
   "source": [
    "from skbio.stats.distance import DistanceMatrix"
   ]
  },
  {
   "cell_type": "code",
   "execution_count": null,
   "id": "4188faf0-f99f-46ab-bd60-31d4b98da4c4",
   "metadata": {},
   "outputs": [],
   "source": [
    "from skbio.stats.distance import _permanova"
   ]
  },
  {
   "cell_type": "markdown",
   "id": "ace5ac5a-6948-4cbc-907b-6f752831c9cd",
   "metadata": {},
   "source": [
    "### Data loading"
   ]
  },
  {
   "cell_type": "code",
   "execution_count": null,
   "id": "c101672a-1bd6-476d-b420-6cc48e69123a",
   "metadata": {},
   "outputs": [],
   "source": [
    "df = pd.read_csv(\n",
    "    \"/data/projects/2024/Effenberger-Diabetes/data/PDM merged 3.0_modified.csv\"\n",
    ")"
   ]
  },
  {
   "cell_type": "code",
   "execution_count": null,
   "id": "b6d7230d-5a63-46ad-a259-d2912d259b5d",
   "metadata": {},
   "outputs": [],
   "source": [
    "sample_info = pd.read_csv(\n",
    "    \"/data/projects/2024/Effenberger-Diabetes/data/20011/20011_SampleInfo.csv\"\n",
    ")"
   ]
  },
  {
   "cell_type": "code",
   "execution_count": null,
   "id": "5602d001-0b58-43b1-afbe-1a2fccbae844",
   "metadata": {},
   "outputs": [],
   "source": [
    "df.rename(columns={\"Probennummer\": \"sample_information\"}, inplace=True)"
   ]
  },
  {
   "cell_type": "code",
   "execution_count": null,
   "id": "bf845180-25b0-45dc-9ea8-ecd439099817",
   "metadata": {},
   "outputs": [],
   "source": [
    "sample_info.rename(columns={\"SampleInformation\": \"sample_information\"}, inplace=True)"
   ]
  },
  {
   "cell_type": "code",
   "execution_count": null,
   "id": "00357ddf-1105-48c2-9005-541181e5d400",
   "metadata": {},
   "outputs": [],
   "source": [
    "df = df.merge(\n",
    "    sample_info[[\"sample_information\", \"IMGM ID\", \"Type\"]],\n",
    "    on=\"sample_information\",\n",
    "    how=\"left\",\n",
    ")"
   ]
  },
  {
   "cell_type": "code",
   "execution_count": null,
   "id": "b99ad76c-9d69-4c95-8609-63d2e1ffc0a2",
   "metadata": {},
   "outputs": [],
   "source": [
    "file_path = \"/data/projects/2024/Effenberger-Diabetes/out/nf_core_ampliseq_003/qiime2/barplot/level-6.csv\"\n",
    "df_tax = pd.read_csv(file_path)"
   ]
  },
  {
   "cell_type": "code",
   "execution_count": null,
   "id": "0fa6fe08-92e3-4b21-bc6e-efa12704a060",
   "metadata": {},
   "outputs": [],
   "source": [
    "df_tax.set_index(\"index\", inplace=True)"
   ]
  },
  {
   "cell_type": "code",
   "execution_count": null,
   "id": "a1b78aec-8419-46b7-8de1-64e22b66710a",
   "metadata": {},
   "outputs": [],
   "source": [
    "exclude_cols = [\n",
    "    \"sample_information\",\n",
    "    \"age\",\n",
    "    \"KHK1\",\n",
    "    \"KHK2\",\n",
    "    \"CA1\",\n",
    "    \"CA2\",\n",
    "    \"HbA1C (DCCT/NGSP)1\",\n",
    "    \"HbA1C (DCCT/NGSP)2\",\n",
    "    \"Glukose1\",\n",
    "    \"Glukose2\",\n",
    "    \"BMI1\",\n",
    "    \"BMI2\",\n",
    "    \"Pankreatektomie\",\n",
    "    \"HbA1C_diff\",\n",
    "    \"Glukose_diff\",\n",
    "    \"BMI_diff\",\n",
    "    \"KHK_diff\",\n",
    "    \"CA_diff\",\n",
    "]\n",
    "\n",
    "df_tax_bacteria = df_tax.drop(columns=exclude_cols, errors=\"ignore\")\n",
    "\n",
    "threshold = 0.1\n",
    "\n",
    "mean_abundance = df_tax_bacteria.mean(axis=0)\n",
    "\n",
    "low_abundance_taxa = mean_abundance[mean_abundance < threshold].index\n",
    "\n",
    "df_low_abundance = df_tax_bacteria[low_abundance_taxa]\n",
    "\n",
    "high_abundance_taxa = mean_abundance[mean_abundance >= threshold].index\n",
    "\n",
    "df_high_abundance = df_tax_bacteria[high_abundance_taxa]"
   ]
  },
  {
   "cell_type": "code",
   "execution_count": null,
   "id": "190d7d98-9ccd-4968-a970-e2835b1877ab",
   "metadata": {},
   "outputs": [],
   "source": [
    "file_path = \"/data/projects/2024/Effenberger-Diabetes/out/nf_core_ampliseq_003/qiime2/diversity/beta_diversity/bray_curtis_distance_matrix-condition/raw_data.tsv\"\n",
    "bray_curtis = pd.read_csv(file_path, sep=\"\\t\")\n",
    "bray_curtis = bray_curtis.iloc[:, 1:]"
   ]
  },
  {
   "cell_type": "code",
   "execution_count": null,
   "id": "5854919b-5038-48a4-9ff6-6e71575bc700",
   "metadata": {},
   "outputs": [],
   "source": [
    "file_path = \"/data/projects/2024/Effenberger-Diabetes/out/nf_core_ampliseq_003/qiime2/diversity/beta_diversity/jaccard_distance_matrix-condition/raw_data.tsv\"\n",
    "jaccard = pd.read_csv(file_path, sep=\"\\t\")\n",
    "jaccard = jaccard.iloc[:, 1:]"
   ]
  },
  {
   "cell_type": "code",
   "execution_count": null,
   "id": "dcc4151d-9107-4a93-ac79-ebc889246dbf",
   "metadata": {},
   "outputs": [],
   "source": [
    "jaccard.head()"
   ]
  },
  {
   "cell_type": "code",
   "execution_count": null,
   "id": "76c2641b-80a5-4e92-b962-0a36e0d31d29",
   "metadata": {},
   "outputs": [],
   "source": [
    "bray_curtis.head()"
   ]
  },
  {
   "cell_type": "markdown",
   "id": "a8df5bc9-6b14-487d-8617-cbb994adba90",
   "metadata": {},
   "source": [
    "### Data cleaning"
   ]
  },
  {
   "cell_type": "markdown",
   "id": "32148fd6-2982-4d15-8de6-4bda018d03ef",
   "metadata": {},
   "source": [
    "#### Metadata contains clinical information"
   ]
  },
  {
   "cell_type": "code",
   "execution_count": null,
   "id": "35f05674-cb38-4f99-8806-444c9b1bc030",
   "metadata": {},
   "outputs": [],
   "source": [
    "metadata_cols = df[\n",
    "    [\n",
    "        \"IMGM ID\",\n",
    "        \"sample_information\",\n",
    "        \"Type\",\n",
    "        \"age\",\n",
    "        \"KHK1\",\n",
    "        \"KHK2\",\n",
    "        \"CA1\",\n",
    "        \"CA2\",\n",
    "        \"HbA1C (DCCT/NGSP)1\",\n",
    "        \"HbA1C (DCCT/NGSP)2\",\n",
    "        \"Glukose1\",\n",
    "        \"Glukose2\",\n",
    "        \"BMI1\",\n",
    "        \"BMI2\",\n",
    "        \"Pankreatektomie\",\n",
    "        \"sex\",\n",
    "        \"Insulin1\",\n",
    "        \"Insulin2\",\n",
    "        \"MASLD1\",\n",
    "        \"MASLD2\",\n",
    "        \"nikotin\",\n",
    "    ]\n",
    "]"
   ]
  },
  {
   "cell_type": "code",
   "execution_count": null,
   "id": "d7854dbc-1cab-46a3-a03c-ffa54a86fc7b",
   "metadata": {},
   "outputs": [],
   "source": [
    "metadata = metadata_cols.dropna(subset=[\"IMGM ID\"])"
   ]
  },
  {
   "cell_type": "code",
   "execution_count": null,
   "id": "fe5071f1-9f2d-4457-9a5b-1e832914908b",
   "metadata": {},
   "outputs": [],
   "source": [
    "metadata[\"HbA1C_diff\"] = metadata.apply(\n",
    "    lambda x: (\n",
    "        \"increase\"\n",
    "        if x[\"HbA1C (DCCT/NGSP)2\"] - x[\"HbA1C (DCCT/NGSP)1\"] > 0\n",
    "        else \"decrease\"\n",
    "    ),\n",
    "    axis=1,\n",
    ")\n",
    "metadata[\"Glukose_diff\"] = metadata.apply(\n",
    "    lambda x: \"increase\" if x[\"Glukose2\"] - x[\"Glukose1\"] > 0 else \"decrease\", axis=1\n",
    ")\n",
    "metadata[\"BMI_diff\"] = metadata.apply(\n",
    "    lambda x: \"increase\" if x[\"BMI2\"] - x[\"BMI1\"] > 0 else \"decrease\", axis=1\n",
    ")"
   ]
  },
  {
   "cell_type": "code",
   "execution_count": null,
   "id": "c3f09edd-823c-4242-b4b6-9883376784a9",
   "metadata": {},
   "outputs": [],
   "source": [
    "def categorize_diff(before, after):\n",
    "    if after == \"ja\" and before == \"nein\":\n",
    "        return \"onset\"\n",
    "    elif after == \"nein\" and before == \"nein\":\n",
    "        return \"absent\"\n",
    "    elif after == \"nein\" and before == \"ja\":\n",
    "        return \"resolved\"\n",
    "    elif after == \"ja\" and before == \"ja\":\n",
    "        return \"persistent\"\n",
    "    else:\n",
    "        return \"unknown\"\n",
    "\n",
    "\n",
    "metadata[\"KHK_diff\"] = metadata.apply(\n",
    "    lambda x: categorize_diff(x[\"KHK1\"], x[\"KHK2\"]), axis=1\n",
    ")\n",
    "metadata[\"CA_diff\"] = metadata.apply(\n",
    "    lambda x: categorize_diff(x[\"CA1\"], x[\"CA2\"]), axis=1\n",
    ")"
   ]
  },
  {
   "cell_type": "code",
   "execution_count": null,
   "id": "210e5887-7d93-4d84-83b7-0c7f72305ebf",
   "metadata": {},
   "outputs": [],
   "source": [
    "metadata.rename(columns={\"IMGM ID\": \"id\"}, inplace=True)"
   ]
  },
  {
   "cell_type": "code",
   "execution_count": null,
   "id": "9a22f0e9-b082-4bb3-abc3-94af0def678d",
   "metadata": {},
   "outputs": [],
   "source": [
    "metadata_k = metadata[metadata[\"sample_information\"].str.contains(\"K\", na=False)]\n",
    "metadata_dm = metadata[metadata[\"sample_information\"].str.match(\"DM\", na=False)]\n",
    "metadata_pdm = metadata[metadata[\"sample_information\"].str.contains(\"PDM\", na=False)]"
   ]
  },
  {
   "cell_type": "code",
   "execution_count": null,
   "id": "1d0607fc-ce25-4a54-853a-44032d508933",
   "metadata": {},
   "outputs": [],
   "source": [
    "metadata_k = metadata_k.drop_duplicates(subset=[\"id\"], keep=\"first\")\n",
    "metadata_dm = metadata_dm.drop_duplicates(subset=[\"id\"], keep=\"first\")\n",
    "metadata_pdm = metadata_pdm.drop_duplicates(subset=[\"id\"], keep=\"first\")"
   ]
  },
  {
   "cell_type": "code",
   "execution_count": null,
   "id": "4d307153-a4fe-4207-a411-0f3d3bf83858",
   "metadata": {},
   "outputs": [],
   "source": [
    "metadata = metadata.drop_duplicates(subset=[\"id\"], keep=\"first\")"
   ]
  },
  {
   "cell_type": "markdown",
   "id": "cd71765d-99bb-4f1f-a18c-68920925a808",
   "metadata": {},
   "source": [
    "#### Microbial data contains taxonomic information from QUIIME"
   ]
  },
  {
   "cell_type": "code",
   "execution_count": null,
   "id": "dcfeffba-43c3-49a8-83a2-beeaba09e409",
   "metadata": {},
   "outputs": [],
   "source": [
    "microbial_data = df_high_abundance.drop(columns=metadata_cols, errors=\"ignore\")"
   ]
  },
  {
   "cell_type": "code",
   "execution_count": null,
   "id": "1746bb51-ac36-4cdc-9742-f58d812a5918",
   "metadata": {},
   "outputs": [],
   "source": [
    "microbial_data[\"id\"] = microbial_data.index"
   ]
  },
  {
   "cell_type": "code",
   "execution_count": null,
   "id": "ff7eb47e-1c02-493a-8f2b-caf766cf5ed6",
   "metadata": {},
   "outputs": [],
   "source": [
    "def extract_species_name(taxonomy):\n",
    "    \"\"\"Extract the last part of a taxonomy string (genus name).\"\"\"\n",
    "    return taxonomy.split(\";\")[-1].strip()"
   ]
  },
  {
   "cell_type": "code",
   "execution_count": null,
   "id": "b13bd07e-44de-4240-a38d-7b04422c3d65",
   "metadata": {},
   "outputs": [],
   "source": [
    "microbial_data.rename(\n",
    "    columns={col: extract_species_name(col) for col in microbial_data.columns},\n",
    "    inplace=True,\n",
    ")"
   ]
  },
  {
   "cell_type": "code",
   "execution_count": null,
   "id": "98a8ef7e-d83c-4c74-9d31-18ac68d377e4",
   "metadata": {},
   "outputs": [],
   "source": [
    "microbial_data.rename(columns={\"index\": \"id\"}, inplace=True)"
   ]
  },
  {
   "cell_type": "code",
   "execution_count": null,
   "id": "3a939788-0c03-4b82-bdd4-6056063b1ef2",
   "metadata": {},
   "outputs": [],
   "source": [
    "microbial_data.columns = microbial_data.columns.str.strip()\n",
    "metadata.columns = metadata.columns.str.strip()\n",
    "\n",
    "print(\"microbial_data columns:\", microbial_data.columns)\n",
    "print(\"metadata columns:\", metadata.columns)\n",
    "\n",
    "if \"id\" in microbial_data.columns and \"id\" in metadata.columns:\n",
    "    microbial_data = microbial_data.merge(\n",
    "        metadata[\n",
    "            [\n",
    "                \"id\",\n",
    "                \"Type\",\n",
    "                \"sample_information\",\n",
    "                \"age\",\n",
    "                \"KHK1\",\n",
    "                \"KHK2\",\n",
    "                \"CA1\",\n",
    "                \"CA2\",\n",
    "                \"HbA1C (DCCT/NGSP)1\",\n",
    "                \"HbA1C (DCCT/NGSP)2\",\n",
    "                \"Glukose1\",\n",
    "                \"Glukose2\",\n",
    "                \"Pankreatektomie\",\n",
    "                \"BMI1\",\n",
    "                \"BMI2\",\n",
    "            ]\n",
    "        ],\n",
    "        on=\"id\",\n",
    "        how=\"left\",\n",
    "    )\n",
    "\n",
    "else:\n",
    "    print(\"'id' column not found in one or both DataFrames.\")"
   ]
  },
  {
   "cell_type": "code",
   "execution_count": null,
   "id": "eb105895-6844-43ce-9cb4-334873ee9c56",
   "metadata": {},
   "outputs": [],
   "source": [
    "ordinal_map = {\n",
    "    \"nein\": 0,\n",
    "    \"Teilresektion links\": 1,\n",
    "    \"Teilresektion rechts\": 2,\n",
    "    \"Resektion\": 3,\n",
    "}\n",
    "\n",
    "microbial_data[\"Pankreatektomie_encoded\"] = microbial_data[\"Pankreatektomie\"].map(\n",
    "    ordinal_map\n",
    ")"
   ]
  },
  {
   "cell_type": "code",
   "execution_count": null,
   "id": "dcf6fc22-415f-4f64-a5c1-f0fb9dd19dcf",
   "metadata": {},
   "outputs": [],
   "source": [
    "microbial_data_original = microbial_data.copy()"
   ]
  },
  {
   "cell_type": "code",
   "execution_count": null,
   "id": "e2aa4bf1-a742-4346-8cbe-9fb467a05faa",
   "metadata": {},
   "outputs": [],
   "source": [
    "microbial_data = microbial_data.drop(columns=[\"Pankreatektomie\"])"
   ]
  },
  {
   "cell_type": "code",
   "execution_count": null,
   "id": "e0c3de26-1e1b-4fe8-af85-9e38203f0bf0",
   "metadata": {},
   "outputs": [],
   "source": [
    "jaccard.head()"
   ]
  },
  {
   "cell_type": "markdown",
   "id": "c62f95ff-9616-4dc8-9c76-a66a28ed8581",
   "metadata": {},
   "source": [
    "#### PCoA - Beta diversity - Jaccard distance "
   ]
  },
  {
   "cell_type": "code",
   "execution_count": null,
   "id": "303ce729-112e-45e4-8f3e-8bb4d83a230c",
   "metadata": {},
   "outputs": [],
   "source": [
    "df = jaccard"
   ]
  },
  {
   "cell_type": "code",
   "execution_count": null,
   "id": "a2008507-b583-4fa8-9943-1350f8852812",
   "metadata": {
    "scrolled": true
   },
   "outputs": [],
   "source": [
    "df[\"Group1\"].replace(\"Diabetes mellitus Typ1\", \"DM\", inplace=True)\n",
    "df[\"Group1\"].replace(\"pankreopriver Diabetes\", \"PDM\", inplace=True)\n",
    "df[\"Group1\"].replace(\"Kontrolle\", \"K\", inplace=True)\n",
    "df[\"Group2\"].replace(\"Diabetes mellitus Typ1\", \"DM\", inplace=True)\n",
    "df[\"Group2\"].replace(\"pankreopriver Diabetes\", \"PDM\", inplace=True)\n",
    "df[\"Group2\"].replace(\"Kontrolle\", \"K\", inplace=True)"
   ]
  },
  {
   "cell_type": "code",
   "execution_count": null,
   "id": "1ba5c5a7-3293-4e1c-b4f2-36d90ea5d5bb",
   "metadata": {},
   "outputs": [],
   "source": [
    "jaccard[\"PairType\"] = jaccard.apply(\n",
    "    lambda row: (\n",
    "        f\"{row['Group1']} vs {row['Group2']}\"\n",
    "        if row[\"Group1\"] <= row[\"Group2\"]\n",
    "        else f\"{row['Group2']} vs {row['Group1']}\"\n",
    "    ),\n",
    "    axis=1,\n",
    ")"
   ]
  },
  {
   "cell_type": "code",
   "execution_count": null,
   "id": "bd62bc6f-736d-433c-aa71-efe0302a374f",
   "metadata": {},
   "outputs": [],
   "source": [
    "import pandas as pd\n",
    "from scipy.spatial.distance import squareform\n",
    "\n",
    "long_df = jaccard.copy()\n",
    "dist_matrix = pd.pivot_table(\n",
    "    long_df, index=\"SubjectID1\", columns=\"SubjectID2\", values=\"Distance\"\n",
    ")\n",
    "\n",
    "dist_matrix = dist_matrix.combine_first(dist_matrix.T).fillna(0)"
   ]
  },
  {
   "cell_type": "code",
   "execution_count": null,
   "id": "9df60d49-975a-445c-bea1-a06a2f48d44e",
   "metadata": {},
   "outputs": [],
   "source": [
    "pcoa_results = pcoa(dist_matrix)\n",
    "pcoa_df = pcoa_results.samples"
   ]
  },
  {
   "cell_type": "code",
   "execution_count": null,
   "id": "1c6a45bf-0d66-46f8-8207-d60ebe7a1e24",
   "metadata": {},
   "outputs": [],
   "source": [
    "pcoa_df.index = dist_matrix.index"
   ]
  },
  {
   "cell_type": "code",
   "execution_count": null,
   "id": "2e466896-8829-4feb-8521-ac1a71242369",
   "metadata": {},
   "outputs": [],
   "source": [
    "pcoa_df[\"id\"] = pcoa_df.index"
   ]
  },
  {
   "cell_type": "code",
   "execution_count": null,
   "id": "ea487d19-b2c0-4cd6-a54c-650af791e570",
   "metadata": {},
   "outputs": [],
   "source": [
    "pcoa_df = pcoa_df.merge(\n",
    "    metadata[[\"id\", \"Type\", \"sample_information\"]], on=\"id\", how=\"left\"\n",
    ")"
   ]
  },
  {
   "cell_type": "code",
   "execution_count": null,
   "id": "b6ea57ba-3feb-44e1-bb2d-190b84045414",
   "metadata": {},
   "outputs": [],
   "source": [
    "pcoa_df[\"Type\"] = pcoa_df[\"Type\"].replace(\n",
    "    {\"Kontrolle\": \"K\", \"Diabetes mellitus Typ1\": \"DM\", \"pankreopriver Diabetes\": \"PDM\"}\n",
    ")"
   ]
  },
  {
   "cell_type": "code",
   "execution_count": null,
   "id": "719f3b3d-8b36-4481-b64f-ee7a557be77c",
   "metadata": {},
   "outputs": [],
   "source": [
    "import matplotlib.pyplot as plt\n",
    "import numpy as np\n",
    "import seaborn as sns\n",
    "from mpl_toolkits.mplot3d import Axes3D\n",
    "\n",
    "\n",
    "pcoa_df[\"Type\"] = pcoa_df[\"Type\"].replace({\n",
    "    \"K\": \"H\",\n",
    "    \"DM\": \"T1DM\",\n",
    "    \"PDM\": \"T3cDM\"\n",
    "})\n",
    "\n",
    "\n",
    "custom_palette = {\n",
    "    \"H\": \"#3374A1\",\n",
    "    \"T1DM\": \"#E1812C\",\n",
    "    \"T3cDM\": \"#3A923A\"\n",
    "}\n",
    "\n",
    "fig = plt.figure(figsize=(8, 6))\n",
    "ax = fig.add_subplot(111, projection=\"3d\")\n",
    "\n",
    "for group in pcoa_df[\"Type\"].unique():\n",
    "    subset = pcoa_df[pcoa_df[\"Type\"] == group]\n",
    "    ax.scatter(\n",
    "        subset[\"PC1\"],\n",
    "        subset[\"PC2\"],\n",
    "        subset[\"PC3\"],\n",
    "        label=group,\n",
    "        color=custom_palette.get(group, \"gray\"),\n",
    "        s=50,\n",
    "        alpha=0.8,\n",
    "    )\n",
    "\n",
    "ax.set_xlabel(f\"PC1 ({pcoa_results.proportion_explained[0]*100:.2f}%)\")\n",
    "ax.set_ylabel(f\"PC2 ({pcoa_results.proportion_explained[1]*100:.2f}%)\")\n",
    "ax.set_zlabel(f\"PC3 ({pcoa_results.proportion_explained[2]*100:.2f}%)\")\n",
    "ax.set_title(\"\")\n",
    "\n",
    "ax.legend(title=\"Type\")\n",
    "plt.tight_layout()\n",
    "\n",
    "\n",
    "#plt.savefig(\"/data/scratch/kvalem/projects/2024/diabetes_microbe/05-results/figures/jaccard_pcoa_3d.svg\", dpi=300)\n",
    "#plt.savefig(\"/data/scratch/kvalem/projects/2024/diabetes_microbe/05-results/figures/jaccard_pcoa_3d.png\", dpi=300)\n",
    "\n",
    "plt.show()\n"
   ]
  },
  {
   "cell_type": "markdown",
   "id": "8e34738a-544a-4a7d-9bc9-5eeced383d63",
   "metadata": {},
   "source": [
    "#### PCoA - Beta diversity - Bray Curtis distance "
   ]
  },
  {
   "cell_type": "code",
   "execution_count": null,
   "id": "0bac0b37-aa41-45d1-a9ff-126e8eaf5c1d",
   "metadata": {},
   "outputs": [],
   "source": [
    "bray_curtis[\"PairType\"] = bray_curtis.apply(\n",
    "    lambda row: (\n",
    "        f\"{row['Group1']} vs {row['Group2']}\"\n",
    "        if row[\"Group1\"] <= row[\"Group2\"]\n",
    "        else f\"{row['Group2']} vs {row['Group1']}\"\n",
    "    ),\n",
    "    axis=1,\n",
    ")"
   ]
  },
  {
   "cell_type": "code",
   "execution_count": null,
   "id": "e51ba1a1-a644-471a-a856-5fba1df9a918",
   "metadata": {},
   "outputs": [],
   "source": [
    "import pandas as pd\n",
    "from scipy.spatial.distance import squareform\n",
    "\n",
    "long_df = bray_curtis.copy()\n",
    "dist_matrix = pd.pivot_table(\n",
    "    long_df, index=\"SubjectID1\", columns=\"SubjectID2\", values=\"Distance\"\n",
    ")\n",
    "\n",
    "dist_matrix = dist_matrix.combine_first(dist_matrix.T).fillna(0)"
   ]
  },
  {
   "cell_type": "code",
   "execution_count": null,
   "id": "bf116b7b-7c2e-44ac-a134-af92f0b7b45c",
   "metadata": {},
   "outputs": [],
   "source": [
    "pcoa_results = pcoa(dist_matrix)\n",
    "pcoa_df = pcoa_results.samples"
   ]
  },
  {
   "cell_type": "code",
   "execution_count": null,
   "id": "338aa7de-f8ca-4002-b631-390718e44750",
   "metadata": {},
   "outputs": [],
   "source": [
    "pcoa_df.index = dist_matrix.index"
   ]
  },
  {
   "cell_type": "code",
   "execution_count": null,
   "id": "4ada8a8b-1b8b-403f-b3d9-94db40f4dceb",
   "metadata": {},
   "outputs": [],
   "source": [
    "pcoa_df[\"id\"] = pcoa_df.index"
   ]
  },
  {
   "cell_type": "code",
   "execution_count": null,
   "id": "ca7122b2-f2d9-4a51-adac-466985f81cd8",
   "metadata": {},
   "outputs": [],
   "source": [
    "pcoa_df = pcoa_df.merge(\n",
    "    metadata[[\"id\", \"Type\", \"sample_information\"]], on=\"id\", how=\"left\"\n",
    ")"
   ]
  },
  {
   "cell_type": "code",
   "execution_count": null,
   "id": "a8467182-5513-4373-b3dd-b57449e6766b",
   "metadata": {},
   "outputs": [],
   "source": [
    "pcoa_df[\"Type\"] = pcoa_df[\"Type\"].replace(\n",
    "    {\"Kontrolle\": \"K\", \"Diabetes mellitus Typ1\": \"DM\", \"pankreopriver Diabetes\": \"PDM\"}\n",
    ")"
   ]
  },
  {
   "cell_type": "code",
   "execution_count": null,
   "id": "7d0ee436-4f4c-443a-8510-97905efec685",
   "metadata": {},
   "outputs": [],
   "source": [
    "import matplotlib.pyplot as plt\n",
    "import numpy as np\n",
    "import seaborn as sns\n",
    "from mpl_toolkits.mplot3d import Axes3D\n",
    "\n",
    "\n",
    "pcoa_df[\"Type\"] = pcoa_df[\"Type\"].replace({\n",
    "    \"K\": \"H\",\n",
    "    \"DM\": \"T1DM\",\n",
    "    \"PDM\": \"T3cDM\"\n",
    "})\n",
    "\n",
    "\n",
    "custom_palette = {\n",
    "    \"H\": \"#3374A1\",\n",
    "    \"T1DM\": \"#E1812C\",\n",
    "    \"T3cDM\": \"#3A923A\"\n",
    "}\n",
    "\n",
    "\n",
    "fig = plt.figure(figsize=(8, 6))\n",
    "ax = fig.add_subplot(111, projection=\"3d\")\n",
    "\n",
    "for group in pcoa_df[\"Type\"].unique():\n",
    "    subset = pcoa_df[pcoa_df[\"Type\"] == group]\n",
    "    ax.scatter(\n",
    "        subset[\"PC1\"],\n",
    "        subset[\"PC2\"],\n",
    "        subset[\"PC3\"],\n",
    "        label=group,\n",
    "        color=custom_palette.get(group, \"gray\"),\n",
    "        s=50,\n",
    "        alpha=0.8,\n",
    "    )\n",
    "\n",
    "ax.set_xlabel(f\"PC1 ({pcoa_results.proportion_explained[0]*100:.2f}%)\")\n",
    "ax.set_ylabel(f\"PC2 ({pcoa_results.proportion_explained[1]*100:.2f}%)\")\n",
    "ax.set_zlabel(f\"PC3 ({pcoa_results.proportion_explained[2]*100:.2f}%)\")\n",
    "ax.set_title(\"\")\n",
    "\n",
    "\n",
    "plt.savefig(\"/data/scratch/kvalem/projects/2024/diabetes_microbe/05-results/figures/bray_curtis_pcoa_3d.svg\", dpi = 300)\n",
    "plt.savefig(\"/data/scratch/kvalem/projects/2024/diabetes_microbe/05-results/figures/bray_curtis_pcoa_3d.png\",dpi = 300)\n",
    "\n",
    "# Add legend and layout\n",
    "ax.legend(title=\"Type\")\n",
    "plt.tight_layout()\n",
    "plt.show()"
   ]
  },
  {
   "cell_type": "code",
   "execution_count": null,
   "id": "3d6d630f-f60a-4668-81d3-1dcfca8243e4",
   "metadata": {},
   "outputs": [],
   "source": []
  }
 ],
 "metadata": {
  "kernelspec": {
   "display_name": "scanpy",
   "language": "python",
   "name": "scanpy"
  },
  "language_info": {
   "codemirror_mode": {
    "name": "ipython",
    "version": 3
   },
   "file_extension": ".py",
   "mimetype": "text/x-python",
   "name": "python",
   "nbconvert_exporter": "python",
   "pygments_lexer": "ipython3",
   "version": "3.12.3"
  }
 },
 "nbformat": 4,
 "nbformat_minor": 5
}
