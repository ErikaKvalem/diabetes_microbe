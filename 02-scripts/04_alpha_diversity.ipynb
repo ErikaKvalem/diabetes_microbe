{
 "cells": [
  {
   "cell_type": "markdown",
   "id": "510986d4-a8a7-4ede-95fa-6992bb3bb3ac",
   "metadata": {},
   "source": [
    "# Pankreopriver diabetes mellitus vs Diabetes Type 1 "
   ]
  },
  {
   "cell_type": "markdown",
   "id": "44d6bb78-818c-4df7-a527-e960672ed6e0",
   "metadata": {},
   "source": [
    "### Libraries"
   ]
  },
  {
   "cell_type": "code",
   "execution_count": null,
   "id": "4b912759-79bc-4187-b21d-60a714754bca",
   "metadata": {},
   "outputs": [],
   "source": [
    "# pd.options.display.max_columns= 999"
   ]
  },
  {
   "cell_type": "code",
   "execution_count": null,
   "id": "7a81a258-70d5-4945-81d5-a1ca842a1b7f",
   "metadata": {},
   "outputs": [],
   "source": [
    "import pandas as pd"
   ]
  },
  {
   "cell_type": "code",
   "execution_count": null,
   "id": "e8de085c-5905-4d7b-98d4-94be280990e9",
   "metadata": {},
   "outputs": [],
   "source": [
    "import matplotlib.pyplot as plt\n",
    "import numpy as np\n",
    "import pandas as pd\n",
    "import seaborn as sns\n",
    "from sklearn.decomposition import PCA"
   ]
  },
  {
   "cell_type": "code",
   "execution_count": null,
   "id": "401a7a1a-cbae-42d0-8d4a-3f78d083a303",
   "metadata": {},
   "outputs": [],
   "source": [
    "import matplotlib.pyplot as plt\n",
    "import numpy as np\n",
    "import pandas as pd\n",
    "import seaborn as sns\n",
    "import statsmodels.api as sm\n",
    "import statsmodels.formula.api as smf\n",
    "from scipy.stats import mannwhitneyu\n",
    "from statsmodels.stats.multitest import multipletests"
   ]
  },
  {
   "cell_type": "code",
   "execution_count": null,
   "id": "4a632584-3e1a-47c9-93cf-58ebb7bae60b",
   "metadata": {},
   "outputs": [],
   "source": [
    "from skbio.stats.ordination import pcoa"
   ]
  },
  {
   "cell_type": "markdown",
   "id": "fca7a889-4c2c-41b6-90e7-101a9cb0c42e",
   "metadata": {},
   "source": [
    "### Data loading"
   ]
  },
  {
   "cell_type": "code",
   "execution_count": null,
   "id": "a973e7b5-bacc-4f73-8540-0644f916b982",
   "metadata": {},
   "outputs": [],
   "source": [
    "df = pd.read_csv(\n",
    "    \"/data/projects/2024/Effenberger-Diabetes/data/PDM merged 3.0_modified.csv\"\n",
    ")"
   ]
  },
  {
   "cell_type": "code",
   "execution_count": null,
   "id": "06149ae8-3ba1-49ca-ae24-782b21d3e234",
   "metadata": {},
   "outputs": [],
   "source": [
    "sample_info = pd.read_csv(\n",
    "    \"/data/projects/2024/Effenberger-Diabetes/data/20011/20011_SampleInfo.csv\"\n",
    ")"
   ]
  },
  {
   "cell_type": "code",
   "execution_count": null,
   "id": "1ac066b8-f310-4a8c-a701-58ae5521f41b",
   "metadata": {},
   "outputs": [],
   "source": [
    "df.rename(columns={\"Probennummer\": \"sample_information\"}, inplace=True)"
   ]
  },
  {
   "cell_type": "code",
   "execution_count": null,
   "id": "a06cfd09-c279-403e-83a7-9cb2e3980ae0",
   "metadata": {},
   "outputs": [],
   "source": [
    "sample_info.rename(columns={\"SampleInformation\": \"sample_information\"}, inplace=True)"
   ]
  },
  {
   "cell_type": "code",
   "execution_count": null,
   "id": "66b36b04-6091-4ffa-bba9-85d748dfb9ac",
   "metadata": {},
   "outputs": [],
   "source": [
    "df = df.merge(\n",
    "    sample_info[[\"sample_information\", \"IMGM ID\", \"Type\"]],\n",
    "    on=\"sample_information\",\n",
    "    how=\"left\",\n",
    ")"
   ]
  },
  {
   "cell_type": "code",
   "execution_count": null,
   "id": "5bcbf6ee-4887-4cfa-a9c3-4e92bb7ffcf8",
   "metadata": {},
   "outputs": [],
   "source": [
    "# Load the dataset\n",
    "file_path = \"/data/projects/2024/Effenberger-Diabetes/out/nf_core_ampliseq_003/qiime2/barplot/level-6.csv\"\n",
    "df_tax = pd.read_csv(file_path)"
   ]
  },
  {
   "cell_type": "code",
   "execution_count": null,
   "id": "0006a9c7-5d51-4e8c-8edc-90bdd7f95d98",
   "metadata": {},
   "outputs": [],
   "source": [
    "df_tax.set_index(\"index\", inplace=True)"
   ]
  },
  {
   "cell_type": "code",
   "execution_count": null,
   "id": "cebdf96e-6190-411d-af95-15b4d96c8f7a",
   "metadata": {},
   "outputs": [],
   "source": [
    "exclude_cols = [\n",
    "    'sample_information', 'age', 'KHK1', 'KHK2', 'CA1', 'CA2',\n",
    "    'HbA1C (DCCT/NGSP)1', 'HbA1C (DCCT/NGSP)2', 'Glukose1', 'Glukose2',\n",
    "    'BMI1', 'BMI2', 'Pankreatektomie', 'HbA1C_diff', 'Glukose_diff',\n",
    "    'BMI_diff', 'KHK_diff', 'CA_diff'\n",
    "]\n",
    "\n",
    "df_tax_bacteria = df_tax.drop(columns=exclude_cols, errors='ignore')\n",
    "\n",
    "threshold = 0.1\n",
    "\n",
    "mean_abundance = df_tax_bacteria.mean(axis=0)\n",
    "\n",
    "low_abundance_taxa = mean_abundance[mean_abundance < threshold].index\n",
    "\n",
    "df_low_abundance = df_tax_bacteria[low_abundance_taxa]\n",
    "\n",
    "high_abundance_taxa = mean_abundance[mean_abundance >= threshold].index\n",
    "\n",
    "df_high_abundance = df_tax_bacteria[high_abundance_taxa]"
   ]
  },
  {
   "cell_type": "code",
   "execution_count": null,
   "id": "e8e660e7-221d-4c39-b426-1756ea3892d8",
   "metadata": {},
   "outputs": [],
   "source": [
    "file_path = \"/data/projects/2024/Effenberger-Diabetes/out/nf_core_ampliseq_003/qiime2/diversity/alpha_diversity/shannon_vector/metadata.tsv\"\n",
    "shannon_entropy = pd.read_csv(file_path, sep=\"\\t\")\n",
    "shannon_entropy = shannon_entropy.iloc[1:]"
   ]
  },
  {
   "cell_type": "code",
   "execution_count": null,
   "id": "fa6df640-6fa6-4b39-a3fa-5a773884cf87",
   "metadata": {},
   "outputs": [],
   "source": [
    "file_path = \"/data/projects/2024/Effenberger-Diabetes/out/nf_core_ampliseq_003/qiime2/diversity/beta_diversity/bray_curtis_distance_matrix-condition/raw_data.tsv\"\n",
    "bray_curtis = pd.read_csv(file_path, sep=\"\\t\")\n",
    "bray_curtis = bray_curtis.iloc[:, 1:]"
   ]
  },
  {
   "cell_type": "code",
   "execution_count": null,
   "id": "259c4bad-984f-44ae-ac32-d4e4236c06af",
   "metadata": {},
   "outputs": [],
   "source": [
    "file_path = \"/data/projects/2024/Effenberger-Diabetes/out/nf_core_ampliseq_003/qiime2/diversity/beta_diversity/jaccard_distance_matrix-condition/raw_data.tsv\"\n",
    "jaccard = pd.read_csv(file_path, sep=\"\\t\")\n",
    "jaccard = jaccard.iloc[:, 1:]"
   ]
  },
  {
   "cell_type": "code",
   "execution_count": null,
   "id": "2db3d583-de87-4333-b5e4-f36dac2dfa44",
   "metadata": {},
   "outputs": [],
   "source": [
    "jaccard.head()"
   ]
  },
  {
   "cell_type": "code",
   "execution_count": null,
   "id": "c7464a70-bd14-4645-b46a-1ae9890219c1",
   "metadata": {},
   "outputs": [],
   "source": [
    "bray_curtis.head()"
   ]
  },
  {
   "cell_type": "markdown",
   "id": "e5919a5e-f28e-45ed-bb06-fd568700133b",
   "metadata": {},
   "source": [
    "### Data cleaning"
   ]
  },
  {
   "cell_type": "markdown",
   "id": "a009bb00-8c44-408c-a75e-42dbf27a5094",
   "metadata": {},
   "source": [
    "#### Metadata contains clinical information"
   ]
  },
  {
   "cell_type": "code",
   "execution_count": null,
   "id": "fc1fea0d-f06e-4cd0-b20f-90aba00033b6",
   "metadata": {},
   "outputs": [],
   "source": [
    "metadata_cols = df[\n",
    "    [\n",
    "        \"IMGM ID\",\n",
    "        \"sample_information\",\n",
    "        \"Type\",\n",
    "        \"age\",\n",
    "        \"KHK1\",\n",
    "        \"KHK2\",\n",
    "        \"CA1\",\n",
    "        \"CA2\",\n",
    "        \"HbA1C (DCCT/NGSP)1\",\n",
    "        \"HbA1C (DCCT/NGSP)2\",\n",
    "        \"Glukose1\",\n",
    "        \"Glukose2\",\n",
    "        \"BMI1\",\n",
    "        \"BMI2\",\n",
    "       \"Pankreatektomie\",'sex','Insulin1','Insulin2', 'MASLD1','MASLD2', 'nikotin',\n",
    "    ]\n",
    "]"
   ]
  },
  {
   "cell_type": "code",
   "execution_count": null,
   "id": "6582853e-401c-49ed-b699-651be15bb631",
   "metadata": {},
   "outputs": [],
   "source": [
    "metadata = metadata_cols.dropna(subset=[\"IMGM ID\"])"
   ]
  },
  {
   "cell_type": "code",
   "execution_count": null,
   "id": "ee0f08ee-8163-4c7b-aa1f-f390a6ef2b58",
   "metadata": {},
   "outputs": [],
   "source": [
    "metadata[\"HbA1C_diff\"] = metadata.apply(\n",
    "    lambda x: (\n",
    "        \"increase\"\n",
    "        if x[\"HbA1C (DCCT/NGSP)2\"] - x[\"HbA1C (DCCT/NGSP)1\"] > 0\n",
    "        else \"decrease\"\n",
    "    ),\n",
    "    axis=1,\n",
    ")\n",
    "metadata[\"Glukose_diff\"] = metadata.apply(\n",
    "    lambda x: \"increase\" if x[\"Glukose2\"] - x[\"Glukose1\"] > 0 else \"decrease\", axis=1\n",
    ")\n",
    "metadata[\"BMI_diff\"] = metadata.apply(\n",
    "    lambda x: \"increase\" if x[\"BMI2\"] - x[\"BMI1\"] > 0 else \"decrease\", axis=1\n",
    ")"
   ]
  },
  {
   "cell_type": "code",
   "execution_count": null,
   "id": "64ae2d90-c2a5-4b2d-833a-fc8ca7dc1723",
   "metadata": {},
   "outputs": [],
   "source": [
    "def categorize_diff(before, after):\n",
    "    if after == \"ja\" and before == \"nein\":\n",
    "        return \"onset\"\n",
    "    elif after == \"nein\" and before == \"nein\":\n",
    "        return \"absent\"\n",
    "    elif after == \"nein\" and before == \"ja\":\n",
    "        return \"resolved\"\n",
    "    elif after == \"ja\" and before == \"ja\":\n",
    "        return \"persistent\"\n",
    "    else:\n",
    "        return \"unknown\" \n",
    "\n",
    "\n",
    "metadata[\"KHK_diff\"] = metadata.apply(\n",
    "    lambda x: categorize_diff(x[\"KHK1\"], x[\"KHK2\"]), axis=1\n",
    ")\n",
    "metadata[\"CA_diff\"] = metadata.apply(\n",
    "    lambda x: categorize_diff(x[\"CA1\"], x[\"CA2\"]), axis=1\n",
    ")"
   ]
  },
  {
   "cell_type": "code",
   "execution_count": null,
   "id": "6cc0a035-2e48-43e9-9688-edba1be6927d",
   "metadata": {},
   "outputs": [],
   "source": [
    "metadata.rename(columns={\"IMGM ID\": \"id\"}, inplace=True)"
   ]
  },
  {
   "cell_type": "code",
   "execution_count": null,
   "id": "345b9ff7-1a58-4478-b4dc-ec00de71a0bc",
   "metadata": {},
   "outputs": [],
   "source": [
    "\n",
    "metadata_k = metadata[metadata[\"sample_information\"].str.contains(\"K\", na=False)]\n",
    "metadata_dm = metadata[metadata[\"sample_information\"].str.match(\"DM\", na=False)]\n",
    "metadata_pdm = metadata[metadata[\"sample_information\"].str.contains(\"PDM\", na=False)]"
   ]
  },
  {
   "cell_type": "code",
   "execution_count": null,
   "id": "3669b2b1-c6c8-44ac-8cad-216e4838dcec",
   "metadata": {},
   "outputs": [],
   "source": [
    "metadata_k = metadata_k.drop_duplicates(subset=[\"id\"], keep=\"first\")\n",
    "metadata_dm = metadata_dm.drop_duplicates(subset=[\"id\"], keep=\"first\")\n",
    "metadata_pdm = metadata_pdm.drop_duplicates(subset=[\"id\"], keep=\"first\")"
   ]
  },
  {
   "cell_type": "code",
   "execution_count": null,
   "id": "9c2fffa5-51fc-44d6-a401-400c00226e6a",
   "metadata": {},
   "outputs": [],
   "source": [
    "metadata = metadata.drop_duplicates(subset=[\"id\"], keep=\"first\")"
   ]
  },
  {
   "cell_type": "markdown",
   "id": "bafd3f2d-ed3e-4385-996b-e2dd8ec7f5dd",
   "metadata": {},
   "source": [
    "#### Microbial data contains taxonomic information from QUIIME"
   ]
  },
  {
   "cell_type": "code",
   "execution_count": null,
   "id": "2652f597-d105-4d93-9783-2383418a31bb",
   "metadata": {},
   "outputs": [],
   "source": [
    "microbial_data = df_high_abundance.drop(columns=metadata_cols, errors=\"ignore\")"
   ]
  },
  {
   "cell_type": "code",
   "execution_count": null,
   "id": "986e2ab5-fb04-454c-b05e-b941bd5cca27",
   "metadata": {},
   "outputs": [],
   "source": [
    "microbial_data[\"id\"] = microbial_data.index"
   ]
  },
  {
   "cell_type": "code",
   "execution_count": null,
   "id": "90c317ce-d743-4776-b7ac-73a64d91b168",
   "metadata": {},
   "outputs": [],
   "source": [
    "def extract_species_name(taxonomy):\n",
    "    \"\"\"Extract the last part of a taxonomy string (genus name).\"\"\"\n",
    "    return taxonomy.split(\";\")[-1].strip()"
   ]
  },
  {
   "cell_type": "code",
   "execution_count": null,
   "id": "030c251f-a823-4ea3-af0c-f709e72d2d18",
   "metadata": {},
   "outputs": [],
   "source": [
    "microbial_data.rename(\n",
    "    columns={col: extract_species_name(col) for col in microbial_data.columns},\n",
    "    inplace=True,\n",
    ")"
   ]
  },
  {
   "cell_type": "code",
   "execution_count": null,
   "id": "13dd818d-cda7-48bf-b051-21a2ed209790",
   "metadata": {},
   "outputs": [],
   "source": [
    "microbial_data.rename(columns={\"index\": \"id\"}, inplace=True)"
   ]
  },
  {
   "cell_type": "code",
   "execution_count": null,
   "id": "fad8b51e-c1e1-4897-8f7d-6e6df37f4172",
   "metadata": {},
   "outputs": [],
   "source": [
    "microbial_data.columns = microbial_data.columns.str.strip()\n",
    "metadata.columns = metadata.columns.str.strip()\n",
    "\n",
    "print(\"microbial_data columns:\", microbial_data.columns)\n",
    "print(\"metadata columns:\", metadata.columns)\n",
    "\n",
    "if \"id\" in microbial_data.columns and \"id\" in metadata.columns:\n",
    "    microbial_data = microbial_data.merge(\n",
    "        metadata[[\"id\", \"Type\", \"sample_information\",\"age\",'KHK1', 'KHK2', 'CA1', 'CA2',\n",
    "       'HbA1C (DCCT/NGSP)1', 'HbA1C (DCCT/NGSP)2', 'Glukose1', 'Glukose2','Pankreatektomie',\n",
    "       'BMI1', 'BMI2']], on=\"id\", how=\"left\"\n",
    "    )\n",
    "    \n",
    "\n",
    "else:\n",
    "    print(\"'id' column not found in one or both DataFrames.\")"
   ]
  },
  {
   "cell_type": "code",
   "execution_count": null,
   "id": "d0227aa1-1b14-44b5-905d-bd975c3a58b3",
   "metadata": {},
   "outputs": [],
   "source": [
    "ordinal_map = {\n",
    "    \"nein\": 0,\n",
    "    \"Teilresektion links\": 1,\n",
    "    \"Teilresektion rechts\": 2,\n",
    "    \"Resektion\": 3\n",
    "}\n",
    "\n",
    "microbial_data[\"Pankreatektomie_encoded\"] = microbial_data[\"Pankreatektomie\"].map(ordinal_map)"
   ]
  },
  {
   "cell_type": "code",
   "execution_count": null,
   "id": "183e86c3-d0fb-4214-ba7d-3b69da180f13",
   "metadata": {},
   "outputs": [],
   "source": [
    "microbial_data_original = microbial_data.copy()"
   ]
  },
  {
   "cell_type": "code",
   "execution_count": null,
   "id": "bb5aa49a-bc32-48af-82a0-eee768cd1476",
   "metadata": {},
   "outputs": [],
   "source": [
    "microbial_data = microbial_data.drop(columns=['Pankreatektomie'])"
   ]
  },
  {
   "cell_type": "markdown",
   "id": "bba3bfa3-b2e6-4da7-a280-843f5421ee49",
   "metadata": {},
   "source": [
    "#### Boxplot - Alpha diversity - Shannon entropy"
   ]
  },
  {
   "cell_type": "code",
   "execution_count": null,
   "id": "aa53d74f-1613-4b27-a139-01bb05e6ec54",
   "metadata": {},
   "outputs": [],
   "source": [
    "shannon_entropy = shannon_entropy.merge(\n",
    "    metadata[[\"id\", \"Type\", \"sample_information\"]], on=\"id\", how=\"left\"\n",
    ")"
   ]
  },
  {
   "cell_type": "code",
   "execution_count": null,
   "id": "ee9e51a7-6e16-4189-8361-1036c27da84e",
   "metadata": {},
   "outputs": [],
   "source": [
    "shannon_entropy.head()"
   ]
  },
  {
   "cell_type": "code",
   "execution_count": null,
   "id": "94a1330c-ba7e-4f40-9a6c-d25a1245672f",
   "metadata": {
    "scrolled": true
   },
   "outputs": [],
   "source": [
    "shannon_entropy[\"Type\"].replace(\"Diabetes mellitus Typ1\", \"DM\", inplace=True)\n",
    "shannon_entropy[\"Type\"].replace(\"pankreopriver Diabetes\", \"PDM\", inplace=True)"
   ]
  },
  {
   "cell_type": "code",
   "execution_count": null,
   "id": "e5a63bb3-b444-452e-ac4d-0145a1eeee4e",
   "metadata": {},
   "outputs": [],
   "source": [
    "shannon_entropy[\"Type\"] = shannon_entropy[\"Type\"].replace({\"Kontrolle\": \"K\"})"
   ]
  },
  {
   "cell_type": "code",
   "execution_count": null,
   "id": "2e0e7074-1216-4285-b4cd-08a537368a3f",
   "metadata": {},
   "outputs": [],
   "source": [
    "import matplotlib.pyplot as plt\n",
    "import seaborn as sns\n",
    "from scipy.stats import mannwhitneyu\n",
    "from statsmodels.stats.multitest import multipletests\n",
    "import pandas as pd\n",
    "\n",
    "order = [\"K\", \"DM\", \"PDM\"]\n",
    "custom_palette = {\n",
    "    \"K\": \"#1f77b4\",\n",
    "    \"DM\": \"#ff7f0e\",\n",
    "    \"PDM\": \"#2ca02c\",\n",
    "}\n",
    "\n",
    "df_clean = shannon_entropy[\n",
    "    pd.to_numeric(shannon_entropy[\"shannon_entropy\"], errors=\"coerce\").notnull()\n",
    "].copy()\n",
    "df_clean[\"shannon_entropy\"] = df_clean[\"shannon_entropy\"].astype(float)\n",
    "\n",
    "plt.figure(figsize=(2.6, 4.5))\n",
    "ax = sns.boxplot(\n",
    "    data=df_clean, x=\"Type\", y=\"shannon_entropy\", palette=custom_palette, order=order\n",
    ")\n",
    "plt.xticks(rotation=90)\n",
    "plt.xlabel(\"\")\n",
    "plt.ylabel(\"Shannon Entropy\")\n",
    "\n",
    "comparisons = [(\"K\", \"DM\"), (\"K\", \"PDM\"), (\"PDM\", \"DM\")]\n",
    "p_values = []\n",
    "\n",
    "for group1, group2 in comparisons:\n",
    "    y1 = df_clean[df_clean[\"Type\"] == group1][\"shannon_entropy\"]\n",
    "    y2 = df_clean[df_clean[\"Type\"] == group2][\"shannon_entropy\"]\n",
    "    stat, p = mannwhitneyu(y1, y2, alternative=\"two-sided\")\n",
    "    p_values.append(p)\n",
    "\n",
    "padj = multipletests(p_values, method='fdr_bh')[1]\n",
    "\n",
    "\n",
    "y_max = df_clean[\"shannon_entropy\"].max()\n",
    "h = 0.2  \n",
    "for i, ((group1, group2), p) in enumerate(zip(comparisons, p_values)):\n",
    "    x1, x2 = order.index(group1), order.index(group2)\n",
    "\n",
    "   \n",
    "    if p < 0.001:\n",
    "        label = \"***\"\n",
    "    elif p < 0.01:\n",
    "        label = \"**\"\n",
    "    elif p < 0.05:\n",
    "        label = \"*\"\n",
    "    else:\n",
    "        label = \"\"\n",
    "\n",
    "   \n",
    "    y_line = y_max + h * i\n",
    "    ax.plot(\n",
    "        [x1, x1, x2, x2],\n",
    "        [y_line, y_line + 0.1, y_line + 0.1, y_line],\n",
    "        lw=0.7,\n",
    "        c=\"black\",\n",
    "    )\n",
    "    ax.text((x1 + x2) / 2, y_line + 0.1, label, ha=\"center\", va=\"bottom\", fontsize=8)\n",
    "\n",
    "plt.tight_layout()\n",
    "\n",
    "#plt.savefig(\"/data/scratch/kvalem/projects/2024/diabetes_microbe/05-results/figures/alpha_shannon_pvalue.svg\")\n",
    "#plt.savefig(\"/data/scratch/kvalem/projects/2024/diabetes_microbe/05-results/figures/alpha_shannon_pvalue.png\")\n",
    "plt.show()\n"
   ]
  },
  {
   "cell_type": "markdown",
   "id": "3ac39feb-048e-44b4-b934-c775b005bcb9",
   "metadata": {},
   "source": [
    "#### Boxplot - Alpha diversity - Simpson diversity"
   ]
  },
  {
   "cell_type": "code",
   "execution_count": null,
   "id": "f128bb88-bf62-470d-af46-ea0cd94747e7",
   "metadata": {},
   "outputs": [],
   "source": [
    "import pandas as pd\n",
    "import seaborn as sns\n",
    "import matplotlib.pyplot as plt\n",
    "\n",
    "simpson = pd.read_csv('/data/projects/2024/Effenberger-Diabetes/out/nf_core_ampliseq_003/qiime2/abundance_tables/exported_simpson/alpha-diversity.tsv', sep='\\t', index_col=0)\n"
   ]
  },
  {
   "cell_type": "code",
   "execution_count": null,
   "id": "ecbc57de-f264-431f-8ccf-71989f413200",
   "metadata": {},
   "outputs": [],
   "source": [
    "simpson.index.name = 'sample_information'"
   ]
  },
  {
   "cell_type": "code",
   "execution_count": null,
   "id": "acdf79ad-1e0e-4caa-a09c-2bc114267c2d",
   "metadata": {},
   "outputs": [],
   "source": [
    "simpson[\"id\"] = simpson.index"
   ]
  },
  {
   "cell_type": "code",
   "execution_count": null,
   "id": "dc0c9363-fd6a-4837-b029-36aa9a364908",
   "metadata": {},
   "outputs": [],
   "source": [
    "merged = pd.merge(simpson, metadata[['id', 'Type']], on='id')"
   ]
  },
  {
   "cell_type": "code",
   "execution_count": null,
   "id": "ac5d267d-6d90-4cb4-88e6-88f9228203b6",
   "metadata": {},
   "outputs": [],
   "source": [
    "merged[\"Type\"].replace(\"Diabetes mellitus Typ1\", \"DM\",inplace=True)\n",
    "merged[\"Type\"].replace(\"pankreopriver Diabetes\", \"PDM\",inplace=True)\n",
    "merged[\"Type\"].replace(\"Kontrolle\",\"K\",inplace=True)\n",
    "merged[\"Type\"].replace(\"Diabetes mellitus Typ1\", \"DM\",inplace=True)\n",
    "merged[\"Type\"].replace(\"pankreopriver Diabetes\", \"PDM\",inplace=True)\n",
    "merged[\"Type\"].replace(\"Kontrolle\",\"K\",inplace=True)"
   ]
  },
  {
   "cell_type": "code",
   "execution_count": null,
   "id": "9f5f94b1-e69a-4685-90f8-bdbaa5b6d514",
   "metadata": {},
   "outputs": [],
   "source": [
    "order = [\"H\", \"T1DM\", \"T3cDM\"]\n",
    "custom_palette = {\n",
    "    \"H\": \"#1f77b4\",\n",
    "    \"T1DM\": \"#ff7f0e\",\n",
    "    \"T3cDM\": \"#2ca02c\",\n",
    "}\n",
    "\n",
    "merged[\"Type\"] = merged[\"Type\"].replace({\n",
    "    \"K\": \"H\",\n",
    "    \"DM\": \"T1DM\",\n",
    "    \"PDM\": \"T3cDM\"\n",
    "})\n",
    "\n",
    "plt.figure(figsize=(2.6, 4.5))\n",
    "ax = sns.boxplot(\n",
    "    data=merged, x=\"Type\", y=\"simpsons\", palette=custom_palette, order=order\n",
    ")\n",
    "plt.xticks(rotation=90)\n",
    "plt.xlabel(\"\")\n",
    "plt.ylabel(\"Simpson diversity\")\n",
    "\n",
    "comparisons = [(\"H\", \"T1DM\"), (\"H\", \"T3cDM\"), (\"T3cDM\", \"T1DM\")]\n",
    "y_max = merged[\"simpsons\"].max()\n",
    "h = 0.2  \n",
    "\n",
    "for i, (group1, group2) in enumerate(comparisons):\n",
    "    x1, x2 = order.index(group1), order.index(group2)\n",
    "    y1 = merged[merged[\"Type\"] == group1][\"simpsons\"]\n",
    "    y2 = merged[merged[\"Type\"] == group2][\"simpsons\"]\n",
    "\n",
    "    stat, p = mannwhitneyu(y1, y2, alternative=\"two-sided\")\n",
    "\n",
    "    if p < 0.001:\n",
    "        star =  \"***\"\n",
    "    elif p < 0.01:\n",
    "        star =  \"**\"\n",
    "    elif p < 0.05:\n",
    "        star = \"*\"\n",
    "    else:\n",
    "        star =  \"\"\n",
    "\n",
    "    y_line = y_max + h * i\n",
    "    ax.plot(\n",
    "        [x1, x1, x2, x2],\n",
    "        [y_line, y_line + 0.1, y_line + 0.1, y_line],\n",
    "        lw=0.7,\n",
    "        c=\"black\",\n",
    "    )\n",
    "    ax.text((x1 + x2) / 2, y_line + 0.1, star, ha=\"center\", va=\"bottom\", fontsize=8)\n",
    "\n",
    "\n",
    "#plt.savefig(\"/data/scratch/kvalem/projects/2024/diabetes_microbe/05-results/figures/alpha_simpson_pvalue.svg\")\n",
    "#plt.savefig(\"/data/scratch/kvalem/projects/2024/diabetes_microbe/05-results/figures/alpha_simpson_pvalue.png\")\n",
    "\n",
    "plt.tight_layout()\n",
    "plt.show()\n"
   ]
  },
  {
   "cell_type": "markdown",
   "id": "66d691ba-43c9-4430-8f89-0690a69f0987",
   "metadata": {},
   "source": [
    "#### Boxplot - Alpha diversity - Chao1 index"
   ]
  },
  {
   "cell_type": "code",
   "execution_count": null,
   "id": "3c201917-4560-4c16-98c9-b4d256c3349e",
   "metadata": {},
   "outputs": [],
   "source": [
    "import pandas as pd\n",
    "from skbio.diversity.alpha import chao1"
   ]
  },
  {
   "cell_type": "code",
   "execution_count": null,
   "id": "8601f4b7-aa28-4cc7-a244-be77369b9827",
   "metadata": {},
   "outputs": [],
   "source": [
    "otu_table = pd.read_csv(\"/data/projects/2024/Effenberger-Diabetes/out/nf_core_ampliseq_003/dada2/ASV_table.tsv\", sep = \"\\t\")"
   ]
  },
  {
   "cell_type": "code",
   "execution_count": null,
   "id": "6c4fec97-881e-4218-84c3-abcfad52857c",
   "metadata": {},
   "outputs": [],
   "source": [
    "otu_table.set_index(\"ASV_ID\", inplace = True)"
   ]
  },
  {
   "cell_type": "code",
   "execution_count": null,
   "id": "ff457577-a106-4d8e-a2e9-d5bcfb5f7e8c",
   "metadata": {},
   "outputs": [],
   "source": [
    "otu_table = otu_table.T"
   ]
  },
  {
   "cell_type": "code",
   "execution_count": null,
   "id": "450ffc02-a001-42eb-bb07-6cd13e05330b",
   "metadata": {},
   "outputs": [],
   "source": [
    "chao1_df = otu_table.apply(chao1, axis=1)"
   ]
  },
  {
   "cell_type": "code",
   "execution_count": null,
   "id": "a599407a-a602-4218-b25d-a7072d6ed6bc",
   "metadata": {},
   "outputs": [],
   "source": [
    "chao1_df = pd.DataFrame({\n",
    "    \"id\": chao1_df.index,\n",
    "    \"chao1\": chao1_df.values,\n",
    "})"
   ]
  },
  {
   "cell_type": "code",
   "execution_count": null,
   "id": "29e6950e-06ce-4045-a782-be27e3be76e8",
   "metadata": {},
   "outputs": [],
   "source": [
    "df_clean = chao1_df[\n",
    "    pd.to_numeric(chao1_df[\"chao1\"], errors=\"coerce\").notnull()\n",
    "].copy()"
   ]
  },
  {
   "cell_type": "code",
   "execution_count": null,
   "id": "b6b558b4-4afd-420c-994e-2fd3c7f72635",
   "metadata": {},
   "outputs": [],
   "source": [
    "df_clean[\"chao1\"] = df_clean[\"chao1\"].astype(float)\n"
   ]
  },
  {
   "cell_type": "code",
   "execution_count": null,
   "id": "ca8fc0e8-660c-4dfd-9636-a74d20f146ae",
   "metadata": {},
   "outputs": [],
   "source": [
    "order = [\"K\", \"DM\", \"PDM\"]\n",
    "custom_palette = {\n",
    "    \"K\": \"#1f77b4\",\n",
    "    \"DM\": \"#ff7f0e\",\n",
    "    \"PDM\": \"#2ca02c\",\n",
    "}"
   ]
  },
  {
   "cell_type": "code",
   "execution_count": null,
   "id": "713546c3-f265-48cb-bdbd-64b8ecef9920",
   "metadata": {},
   "outputs": [],
   "source": [
    "df_clean = df_clean.merge(\n",
    "    microbial_data[[\"id\", \"Type\"]],\n",
    "    on=\"id\",\n",
    "    how=\"left\"\n",
    ")\n"
   ]
  },
  {
   "cell_type": "code",
   "execution_count": null,
   "id": "50ae0ac8-200c-44e9-8f7f-51820ef241a9",
   "metadata": {},
   "outputs": [],
   "source": [
    "df_clean[\"Type\"] = df_clean[\"Type\"].replace(\n",
    "    {\"pankreopriver Diabetes\": \"PDM\", \"Diabetes mellitus Typ1\": \"DM\", \"Kontrolle\": \"K\"}\n",
    ")\n"
   ]
  },
  {
   "cell_type": "code",
   "execution_count": null,
   "id": "df92a679-d35c-4453-a5cc-787046ee22ae",
   "metadata": {},
   "outputs": [],
   "source": [
    "order = [\"H\", \"T1DM\", \"T3cDM\"]\n",
    "custom_palette = {\n",
    "    \"H\": \"#1f77b4\",\n",
    "    \"T1DM\": \"#ff7f0e\",\n",
    "    \"T3cDM\": \"#2ca02c\",\n",
    "}\n",
    "\n",
    "\n",
    "df_clean[\"Type\"] = df_clean[\"Type\"].replace({\n",
    "    \"K\": \"H\",\n",
    "    \"DM\": \"T1DM\",\n",
    "    \"PDM\": \"T3cDM\"\n",
    "})\n",
    "\n",
    "plt.figure(figsize=(2.6, 4.5))\n",
    "\n",
    "ax = sns.boxplot(\n",
    "    data=df_clean, x=\"Type\", y=\"chao1\", palette=custom_palette, order=order\n",
    ")\n",
    "plt.xticks(rotation=90)\n",
    "plt.xlabel(\"\")\n",
    "plt.ylabel(\"Chao1 Diversity\")\n",
    "\n",
    "\n",
    "comparisons = [(\"H\", \"T1DM\"), (\"H\", \"T3cDM\"), (\"T3cDM\", \"T1DM\")]\n",
    "y_max = df_clean[\"chao1\"].max()\n",
    "h = 10  \n",
    "\n",
    "for i, (group1, group2) in enumerate(comparisons):\n",
    "    x1, x2 = order.index(group1), order.index(group2)\n",
    "    y1 = df_clean[df_clean[\"Type\"] == group1][\"chao1\"]\n",
    "    y2 = df_clean[df_clean[\"Type\"] == group2][\"chao1\"]\n",
    "\n",
    "    stat, p = mannwhitneyu(y1, y2, alternative=\"two-sided\")\n",
    "    print(p)\n",
    "\n",
    "  \n",
    "    if p < 0.001:\n",
    "        star = \"***\"\n",
    "    elif p < 0.01:\n",
    "        star = \"**\"\n",
    "    elif p < 0.05:\n",
    "        star = \"*\"\n",
    "    else:\n",
    "        star = \"\"\n",
    "\n",
    "    \n",
    "    y_line = y_max + h * i\n",
    "    ax.plot([x1, x1, x2, x2], [y_line, y_line + 2, y_line + 2, y_line], lw=0.7, c=\"black\")\n",
    "    ax.text((x1 + x2) / 2, y_line + 2.5, star, ha=\"center\", va=\"bottom\", fontsize=8)\n",
    "\n",
    "plt.tight_layout()\n",
    "\n",
    "#plt.savefig(\"/data/scratch/kvalem/projects/2024/diabetes_microbe/05-results/figures/alpha_chao1_pvalue.svg.svg\")\n",
    "#plt.savefig(\"/data/scratch/kvalem/projects/2024/diabetes_microbe/05-results/figures/alpha_chao1_pvalue.svg.png\")\n",
    "plt.show()\n"
   ]
  },
  {
   "cell_type": "code",
   "execution_count": null,
   "id": "e985b8b5-90cd-41b5-b350-3d2aee8c6a31",
   "metadata": {},
   "outputs": [],
   "source": []
  }
 ],
 "metadata": {
  "kernelspec": {
   "display_name": "scanpy",
   "language": "python",
   "name": "scanpy"
  },
  "language_info": {
   "codemirror_mode": {
    "name": "ipython",
    "version": 3
   },
   "file_extension": ".py",
   "mimetype": "text/x-python",
   "name": "python",
   "nbconvert_exporter": "python",
   "pygments_lexer": "ipython3",
   "version": "3.12.3"
  }
 },
 "nbformat": 4,
 "nbformat_minor": 5
}
